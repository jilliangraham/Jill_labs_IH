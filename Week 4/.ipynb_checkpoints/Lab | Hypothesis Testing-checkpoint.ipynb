{
 "cells": [
  {
   "cell_type": "code",
   "execution_count": null,
   "id": "3b34cf77",
   "metadata": {},
   "outputs": [],
   "source": [
    "\"\"\"It is assumed that the mean systolic blood pressure is μ = 120 mm Hg. \n",
    "\n",
    "In the Honolulu Heart Study, a sample of n = 100 people had an average systolic blood pressure of 130.1 mm Hg \n",
    "with a standard deviation of 21.21 mm Hg. Is the group significantly different \n",
    "(with respect to systolic blood pressure!) from the regular population?\n",
    "\n",
    "Set up the hypothesis test.\n",
    "Write down all the steps followed for setting up the test.\n",
    "Calculate the test statistic by hand and also code it in Python. It should be 4.76190. \n",
    "\n",
    "What decision can you make based on this calculated value?\n",
    "\"\"\""
   ]
  },
  {
   "cell_type": "code",
   "execution_count": 3,
   "id": "479e785d",
   "metadata": {},
   "outputs": [],
   "source": [
    "import numpy as np\n",
    "import pandas as pd\n",
    "import scipy.stats as stats\n",
    "import matplotlib.pyplot as plt\n",
    "import seaborn as sns\n",
    "\n",
    "%matplotlib inline"
   ]
  },
  {
   "cell_type": "code",
   "execution_count": null,
   "id": "f50bb9ec",
   "metadata": {},
   "outputs": [],
   "source": [
    "H0 = \"The sample population does not have a significantly different systolic blood pressure from the regular population\"\n",
    "Ha = \"The sample population does have a significantly different systolic blood pressure from the regular population\""
   ]
  },
  {
   "cell_type": "code",
   "execution_count": 5,
   "id": "5336952d",
   "metadata": {},
   "outputs": [],
   "source": [
    "pop_mean = 120\n",
    "sample_samplesize = 100\n",
    "sample_mean = 130.1\n",
    "sample_std = 21.21\n"
   ]
  },
  {
   "cell_type": "code",
   "execution_count": 10,
   "id": "383ffca7",
   "metadata": {},
   "outputs": [
    {
     "data": {
      "text/plain": [
       "4.761904761904759"
      ]
     },
     "execution_count": 10,
     "metadata": {},
     "output_type": "execute_result"
    }
   ],
   "source": [
    "# compute sample standard error:\n",
    "# We don't have the standard deviation of the population, so we should use the t-test:\n",
    "\n",
    "t_stat = (sample_mean - pop_mean) / (sample_std / np.sqrt(sample_samplesize))\n",
    "t_stat"
   ]
  },
  {
   "cell_type": "code",
   "execution_count": 11,
   "id": "d8025eab",
   "metadata": {},
   "outputs": [
    {
     "data": {
      "text/plain": [
       "99"
      ]
     },
     "execution_count": 11,
     "metadata": {},
     "output_type": "execute_result"
    }
   ],
   "source": [
    "#Determine the degrees of freedom:\n",
    "degrees_freedom = sample_samplesize - 1\n",
    "degrees_freedom"
   ]
  },
  {
   "cell_type": "code",
   "execution_count": 12,
   "id": "7b77a098",
   "metadata": {},
   "outputs": [
    {
     "name": "stdout",
     "output_type": "stream",
     "text": [
      "The critical value corresponding to a 0.95 area of a normal distribution is: 1.98\n"
     ]
    }
   ],
   "source": [
    "#Given a confidence level of 95% for a two-tailed test, we'll find our critical value:\n",
    "\n",
    "critical_value = stats.t.ppf(1 - 0.025, degrees_freedom)\n",
    "\n",
    "print(\"The critical value corresponding to a 0.95 area of a normal distribution is: {:.2f}\".format(critical_value))"
   ]
  },
  {
   "cell_type": "code",
   "execution_count": null,
   "id": "a76478c8",
   "metadata": {},
   "outputs": [],
   "source": [
    "#compare our z-score with the critical value.\n",
    "\n",
    "# z = 4.76 > critical_value = 1.98\n",
    "\n",
    "#conclusion: we must reject the null hypothesis \n",
    "#that the sample population does not have a significantly different systolic blood pressure \n",
    "#from the regular population"
   ]
  }
 ],
 "metadata": {
  "kernelspec": {
   "display_name": "Python 3 (ipykernel)",
   "language": "python",
   "name": "python3"
  },
  "language_info": {
   "codemirror_mode": {
    "name": "ipython",
    "version": 3
   },
   "file_extension": ".py",
   "mimetype": "text/x-python",
   "name": "python",
   "nbconvert_exporter": "python",
   "pygments_lexer": "ipython3",
   "version": "3.11.5"
  }
 },
 "nbformat": 4,
 "nbformat_minor": 5
}
