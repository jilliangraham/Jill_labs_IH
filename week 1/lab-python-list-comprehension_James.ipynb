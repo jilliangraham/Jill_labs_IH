{
 "cells": [
  {
   "cell_type": "markdown",
   "id": "25d7736c-ba17-4aff-b6bb-66eba20fbf4e",
   "metadata": {},
   "source": [
    "# Lab | List, Dict and Set Comprehension"
   ]
  },
  {
   "cell_type": "markdown",
   "id": "7dd3cbde-675a-4b81-92c3-f728846dbe06",
   "metadata": {},
   "source": [
    "## Exercise: Managing Customer Orders Optimized with Comprehension"
   ]
  },
  {
   "cell_type": "markdown",
   "id": "5d500160-2fb7-4777-b5e4-09d45ebaf328",
   "metadata": {},
   "source": [
    "In the previous exercise, you developed a program to manage customer orders and inventory. Now, let's take it a step further and incorporate comprehension into your code.\n",
    "\n",
    "Follow the steps below to complete the exercise:\n",
    "\n",
    "1. Review your code from the previous exercise and identify areas where you can apply comprehension to simplify and streamline your code. \n",
    "\n",
    "    - *Hint: Apply it to initialize inventory, updating the inventory and printing the updated inventory.*\n",
    "    \n",
    "    - For example, in initializing the inventory, we could have:\n",
    "    \n",
    "        ```python\n",
    "        def initialize_inventory(products):\n",
    "            inventory = {product: int(input(f\"Enter the quantity of {product}s available: \")) for product in products}\n",
    "            return inventory\n",
    "\n",
    "        ```\n",
    "<br>\n",
    "    \n",
    "    \n",
    "2. Modify the function get_customer_orders so it prompts the user to enter the number of customer orders and gathers the product names using a loop and user input. Use comprehension.\n",
    "\n",
    "3. Add a new function to calculate the total price of the customer order. For each product in customer_orders, prompt the user to enter the price of that product. Use comprehension to calculate the total price. Note: assume that the user can only have 1 unit of each product.\n",
    "\n",
    "4. Modify the update_inventory function to remove the product from the inventory if its quantity becomes zero after fulfilling the customer orders. Use comprehension to filter out the products with a quantity of zero from the inventory.\n",
    "\n",
    "5. Print the total price of the customer order.\n",
    "\n",
    "Your code should produce output similar to the following:\n",
    "\n",
    "```python\n",
    "Enter the quantity of t-shirts available:  5\n",
    "Enter the quantity of mugs available:  4\n",
    "Enter the quantity of hats available:  3\n",
    "Enter the quantity of books available:  2\n",
    "Enter the quantity of keychains available:  1\n",
    "Enter the number of customer orders:  2\n",
    "Enter the name of a product that a customer wants to order:  hat\n",
    "Enter the name of a product that a customer wants to order:  keychain\n",
    "\n",
    "Order Statistics:\n",
    "Total Products Ordered: 2\n",
    "Percentage of Unique Products Ordered: 40.0\n",
    "\n",
    "Updated Inventory:\n",
    "t-shirt: 5\n",
    "mug: 4\n",
    "hat: 2\n",
    "book: 2\n",
    "Enter the price of keychain:  5\n",
    "Enter the price of hat:  10\n",
    "Total Price: 15.0\n",
    "\n",
    "```\n"
   ]
  },
  {
   "cell_type": "code",
   "execution_count": 59,
   "id": "5834bc95",
   "metadata": {},
   "outputs": [],
   "source": [
    "#defining functions\n",
    "#1\n",
    "def initialize_inventory(products):\n",
    "    \"\"\"\n",
    "    Creates an inventory dictionary from a list of products. Prompts user to input quantity of each product\n",
    "    \n",
    "    Arguments:\n",
    "    products: list of products from which you want to create an inventory\n",
    "    \n",
    "    Returns:\n",
    "    dictionary: inventory with products as keys and quantities as values\n",
    "    \"\"\"\n",
    "    inventory = {}\n",
    "    inventory = {product: int(input(f\"Enter the quantity of {product}s available: \")) for product in products}\n",
    "    return inventory\n",
    "\n",
    "#2\n",
    "def get_customer_orders():\n",
    "    num_orders = int(input(\"Enter the number of customer orders: \"))\n",
    "    customer_orders = {input(f\"Please enter product {i+1} you would like to order: \") for i in range(num_orders)}\n",
    "    return customer_orders\n",
    "#3\n",
    "def calculate_order_price(customer_orders):\n",
    "    prices = {int(input(f\"Please enter the price of {order} : \")) for order in customer_orders}\n",
    "    return sum(prices)\n",
    "#4\n",
    "def update_inventory(customer_orders, inventory):\n",
    "    for product in customer_orders:\n",
    "        if product in inventory:\n",
    "            if inventory[product] > 0:\n",
    "                inventory[product] -= 1\n",
    "    \n",
    "    inventory = {product: quantity for product, quantity in inventory.items() if quantity > 0} \n",
    "\n",
    "    return inventory\n",
    "\n",
    "def calculate_order_statistics(customer_orders, products):\n",
    "    order_statistics = (int(len(customer_orders)), int(len(customer_orders)/len(products)*100))\n",
    "    return order_statistics\n",
    "\n",
    "def print_order_statistics(order_statistics):\n",
    "    print(f\"\\n \\nOrder Statistics:\\nTotal Products Ordered:{order_statistics[0]}\\nPercentage of Products Ordered:{order_statistics[1]}%\\n \\n\")\n",
    "\n",
    "#1\n",
    "def print_updated_inventory(inventory):\n",
    "    print(\"Updated Inventory:\")\n",
    "    print(\"\\n\".join([(f\"{product}:{quantity}\") for product,quantity in inventory.items()]))\n",
    "        \n"
   ]
  },
  {
   "cell_type": "code",
   "execution_count": 64,
   "id": "2e4e4440",
   "metadata": {},
   "outputs": [
    {
     "name": "stdout",
     "output_type": "stream",
     "text": [
      "{'t-shirt': 5, 'mug': 3, 'hat': 2, 'book': 1, 'keychain': 1}\n"
     ]
    }
   ],
   "source": [
    "def update_inventory(customer_orders, inventory):\n",
    "    for product in customer_orders:\n",
    "        if product in inventory:\n",
    "            if inventory[product] > 0:\n",
    "                inventory[product] -= 1\n",
    "    \n",
    "    inventory = {product: quantity for product, quantity in inventory.items() if quantity > 0} \n",
    "\n",
    "    return inventory\n",
    "\n",
    "print(inventory)"
   ]
  },
  {
   "cell_type": "code",
   "execution_count": 62,
   "id": "bcb81467",
   "metadata": {},
   "outputs": [
    {
     "name": "stdout",
     "output_type": "stream",
     "text": [
      "{'mug': 2, 'hat': 1, 'book': 0}\n"
     ]
    }
   ],
   "source": [
    "updated_inventory = {product: inventory[product] - 1 if product in customer_orders else #product inventory products.for product in inventory }\n",
    "print(updated_inventory)"
   ]
  },
  {
   "cell_type": "code",
   "execution_count": 60,
   "id": "f3376008",
   "metadata": {},
   "outputs": [
    {
     "name": "stdout",
     "output_type": "stream",
     "text": [
      "Enter the quantity of t-shirts available: 5\n",
      "Enter the quantity of mugs available: 4\n",
      "Enter the quantity of hats available: 3\n",
      "Enter the quantity of books available: 2\n",
      "Enter the quantity of keychains available: 1\n",
      "Enter the number of customer orders: 3\n",
      "Please enter product 1 you would like to order: hat\n",
      "Please enter product 2 you would like to order: book\n",
      "Please enter product 3 you would like to order: mug\n",
      "\n",
      " \n",
      "Order Statistics:\n",
      "Total Products Ordered:3\n",
      "Percentage of Products Ordered:60%\n",
      " \n",
      "\n",
      "Updated Inventory:\n",
      "t-shirt:5\n",
      "mug:3\n",
      "hat:2\n",
      "book:1\n",
      "keychain:1\n",
      "Please enter the price of hat : 10\n",
      "Please enter the price of book : 5\n",
      "Please enter the price of mug : 3\n",
      "Total Price: 18\n"
     ]
    }
   ],
   "source": [
    "#code\n",
    "\n",
    "products = [\"t-shirt\", \"mug\", \"hat\", \"book\", \"keychain\"]\n",
    "\n",
    "inventory = initialize_inventory(products)\n",
    "\n",
    "customer_orders = get_customer_orders()\n",
    "\n",
    "inventory = update_inventory(customer_orders, inventory)\n",
    "\n",
    "order_statistics = calculate_order_statistics(customer_orders, products)\n",
    "\n",
    "print_order_statistics(order_statistics)\n",
    "\n",
    "print_updated_inventory(inventory)\n",
    "\n",
    "total_price = calculate_order_price(customer_orders)\n",
    "\n",
    "print(\"Total Price:\",total_price)"
   ]
  },
  {
   "cell_type": "code",
   "execution_count": null,
   "id": "5a229e20",
   "metadata": {},
   "outputs": [],
   "source": []
  }
 ],
 "metadata": {
  "kernelspec": {
   "display_name": "Python 3 (ipykernel)",
   "language": "python",
   "name": "python3"
  },
  "language_info": {
   "codemirror_mode": {
    "name": "ipython",
    "version": 3
   },
   "file_extension": ".py",
   "mimetype": "text/x-python",
   "name": "python",
   "nbconvert_exporter": "python",
   "pygments_lexer": "ipython3",
   "version": "3.11.5"
  }
 },
 "nbformat": 4,
 "nbformat_minor": 5
}
