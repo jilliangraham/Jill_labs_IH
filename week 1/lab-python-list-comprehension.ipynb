{
 "cells": [
  {
   "cell_type": "markdown",
   "id": "25d7736c-ba17-4aff-b6bb-66eba20fbf4e",
   "metadata": {},
   "source": [
    "# Lab | List, Dict and Set Comprehension"
   ]
  },
  {
   "cell_type": "markdown",
   "id": "7dd3cbde-675a-4b81-92c3-f728846dbe06",
   "metadata": {},
   "source": [
    "## Exercise: Managing Customer Orders Optimized with Comprehension"
   ]
  },
  {
   "cell_type": "markdown",
   "id": "5d500160-2fb7-4777-b5e4-09d45ebaf328",
   "metadata": {},
   "source": [
    "In the previous exercise, you developed a program to manage customer orders and inventory. Now, let's take it a step further and incorporate comprehension into your code.\n",
    "\n",
    "Follow the steps below to complete the exercise:\n",
    "\n",
    "1. Review your code from the previous exercise and identify areas where you can apply comprehension to simplify and streamline your code. \n",
    "\n",
    "    - *Hint: Apply it to initialize inventory, updating the inventory and printing the updated inventory.*\n",
    "    \n",
    "    - For example, in initializing the inventory, we could have:\n",
    "    \n",
    "        ```python\n",
    "        def initialize_inventory(products):\n",
    "            inventory = {product: int(input(f\"Enter the quantity of {product}s available: \")) for product in products}\n",
    "            return inventory\n",
    "\n",
    "        ```\n",
    "<br>\n",
    "    \n",
    "    \n",
    "2. Modify the function get_customer_orders so it prompts the user to enter the number of customer orders and gathers the product names using a loop and user input. Use comprehension.\n",
    "\n",
    "3. Add a new function to calculate the total price of the customer order. For each product in customer_orders, prompt the user to enter the price of that product. Use comprehension to calculate the total price. Note: assume that the user can only have 1 unit of each product.\n",
    "\n",
    "4. Modify the update_inventory function to remove the product from the inventory if its quantity becomes zero after fulfilling the customer orders. Use comprehension to filter out the products with a quantity of zero from the inventory.\n",
    "\n",
    "5. Print the total price of the customer order.\n",
    "\n",
    "Your code should produce output similar to the following:\n",
    "\n",
    "```python\n",
    "Enter the quantity of t-shirts available:  5\n",
    "Enter the quantity of mugs available:  4\n",
    "Enter the quantity of hats available:  3\n",
    "Enter the quantity of books available:  2\n",
    "Enter the quantity of keychains available:  1\n",
    "Enter the number of customer orders:  2\n",
    "Enter the name of a product that a customer wants to order:  hat\n",
    "Enter the name of a product that a customer wants to order:  keychain\n",
    "\n",
    "Order Statistics:\n",
    "Total Products Ordered: 2\n",
    "Percentage of Unique Products Ordered: 40.0\n",
    "\n",
    "Updated Inventory:\n",
    "t-shirt: 5\n",
    "mug: 4\n",
    "hat: 2\n",
    "book: 2\n",
    "Enter the price of keychain:  5\n",
    "Enter the price of hat:  10\n",
    "Total Price: 15.0\n",
    "\n",
    "```\n"
   ]
  },
  {
   "cell_type": "code",
   "execution_count": 1,
   "id": "13c2e61e",
   "metadata": {},
   "outputs": [],
   "source": [
    "products = [\"t-shirt\", \"mug\", \"hat\", \"book\", \"keychain\"]"
   ]
  },
  {
   "cell_type": "code",
   "execution_count": 20,
   "id": "028e42ee",
   "metadata": {},
   "outputs": [
    {
     "name": "stdout",
     "output_type": "stream",
     "text": [
      "Enter the quantity of t-shirts available: 4\n",
      "Enter the quantity of mugs available: 6\n",
      "Enter the quantity of hats available: 3\n",
      "Enter the quantity of books available: 7\n",
      "Enter the quantity of keychains available: 8\n"
     ]
    }
   ],
   "source": [
    "def initialize_inventory(products):\n",
    "    inventory = {product: int(input(f\"Enter the quantity of {product}s available: \")) for product in products}\n",
    "    return inventory\n",
    "\n",
    "new_inventory = initialize_inventory(products)"
   ]
  },
  {
   "cell_type": "code",
   "execution_count": 25,
   "id": "2d4f5a0f",
   "metadata": {},
   "outputs": [
    {
     "name": "stdout",
     "output_type": "stream",
     "text": [
      "Please enter the number of orders: 3\n",
      "please enter product 1 you would like to order: mug\n",
      "please enter product 2 you would like to order: keychain\n",
      "please enter product 3 you would like to order: t-shirt\n"
     ]
    }
   ],
   "source": [
    "#Modify the function get_customer_orders so it prompts the user to enter \n",
    "#the number of customer orders and gathers the product names using a loop and user input. Use comprehension.\n",
    "\n",
    "def get_customer_orders():\n",
    "    number_of_orders = int(input(f\"Please enter the number of orders: \"))\n",
    "    customer_orders = {input(f\"please enter product {product + 1} you would like to order: \") for product in range(number_of_orders)}\n",
    "\n",
    "    return customer_orders\n",
    "\n",
    "new_customer_order = get_customer_orders()"
   ]
  },
  {
   "cell_type": "code",
   "execution_count": 26,
   "id": "31e6117c",
   "metadata": {},
   "outputs": [
    {
     "name": "stdout",
     "output_type": "stream",
     "text": [
      "please enter the price of mug you would like to order: 4\n",
      "please enter the price of t-shirt you would like to order: 6\n",
      "please enter the price of keychain you would like to order: 7\n"
     ]
    },
    {
     "data": {
      "text/plain": [
       "17"
      ]
     },
     "execution_count": 26,
     "metadata": {},
     "output_type": "execute_result"
    }
   ],
   "source": [
    "#Add a new function to calculate the total price of the customer order. \n",
    "#For each product in customer_orders, prompt the user to enter the price of that product. \n",
    "#Use comprehension to calculate the total price. Note: assume that the user can only have 1 unit of each product.\n",
    "\n",
    "def get_prices(a_customer_order):\n",
    "    price_order = {product:int(input(f\"please enter the price of {product} you would like to order: \")) for product in a_customer_order}\n",
    "    total_price = sum(price_order.values())\n",
    "    \n",
    "    return total_price\n",
    "\n",
    "get_prices(new_customer_order)\n"
   ]
  },
  {
   "cell_type": "code",
   "execution_count": 27,
   "id": "263b1bab",
   "metadata": {},
   "outputs": [
    {
     "name": "stdout",
     "output_type": "stream",
     "text": [
      "{'t-shirt': 4, 'mug': 6, 'hat': 3, 'book': 7, 'keychain': 8}\n",
      "{'t-shirt': 3, 'mug': 5, 'keychain': 7}\n",
      "{'mug', 't-shirt', 'keychain'}\n"
     ]
    },
    {
     "data": {
      "text/plain": [
       "{'t-shirt': 3, 'mug': 5, 'keychain': 7}"
      ]
     },
     "execution_count": 27,
     "metadata": {},
     "output_type": "execute_result"
    }
   ],
   "source": [
    "#Modify the update_inventory function to remove the product from the inventory \n",
    "#if its quantity becomes zero after fulfilling the customer orders. \n",
    "#Use comprehension to filter out the products with a quantity of zero from the inventory.\n",
    "\n",
    "def update_inventory(a_customer_order, inventory):\n",
    "    updated_inventory = {product:inventory[product] - 1 for product in inventory if product in a_customer_order}\n",
    "    \n",
    "    print(inventory)\n",
    "    \n",
    "    print(updated_inventory)\n",
    "    \n",
    "    print(a_customer_order)\n",
    "    return updated_inventory\n",
    "\n",
    "\n",
    "new_updated_inventory = update_inventory(new_customer_order, new_inventory)\n",
    "\n",
    "new_updated_inventory"
   ]
  },
  {
   "cell_type": "code",
   "execution_count": null,
   "id": "4de62d5e",
   "metadata": {},
   "outputs": [],
   "source": [
    "#Print the total price of the customer order."
   ]
  },
  {
   "cell_type": "code",
   "execution_count": null,
   "id": "38e1e07b",
   "metadata": {},
   "outputs": [],
   "source": [
    "#Define a function named initialize_inventory that takes products as a parameter. \n",
    "#Inside the function, implement the code for initializing the inventory dictionary using a loop and user input.\n",
    "\n",
    "def initialize_inventory(products):\n",
    "    inventory = {int(input(f\"Please enter the quantity of {product}: \")) for product in products}\n",
    "    return inventory"
   ]
  },
  {
   "cell_type": "code",
   "execution_count": null,
   "id": "3002ae9b",
   "metadata": {},
   "outputs": [],
   "source": [
    "inventory = initialize_inventory(products)"
   ]
  },
  {
   "cell_type": "code",
   "execution_count": null,
   "id": "7fd9be2d",
   "metadata": {},
   "outputs": [],
   "source": [
    "print(inventory)"
   ]
  },
  {
   "cell_type": "code",
   "execution_count": null,
   "id": "1e36faab",
   "metadata": {},
   "outputs": [],
   "source": [
    "#Define a function named get_customer_orders that takes no parameters. \n",
    "#Inside the function, implement the code for prompting the user to enter the product names using a loop. \n",
    "#The function should return the customer_orders set.\n",
    "\n",
    "def get_customer_orders():\n",
    "    continue_or_not = \"yes\"\n",
    "    customer_orders = {input(\"Please enter the product you want to order: \").lower(): \n",
    "        for product in products while (input(\"Would you like to add another item? Please type 'Yes' or 'No.'\").lower() == \"yes\")}\n",
    "    \n",
    "    return customer_orders\n",
    "    \n",
    "#original\n",
    "\"\"\"def get_customer_orders():\n",
    "    continue_or_not = \"yes\"\n",
    "    customer_orders = set()\n",
    "    while continue_or_not == \"yes\":\n",
    "        customer_orders.add(input(\"Please enter the product you want to order: \").lower())\n",
    "        continue_or_not = (input(\"Would you like to add another item? Please type 'Yes' or 'No.'\").lower())\n",
    "\n",
    "    return customer_orders\"\"\""
   ]
  },
  {
   "cell_type": "code",
   "execution_count": null,
   "id": "92d02515",
   "metadata": {},
   "outputs": [],
   "source": [
    "customer_orders"
   ]
  },
  {
   "cell_type": "code",
   "execution_count": null,
   "id": "74749e71",
   "metadata": {},
   "outputs": [],
   "source": [
    "customer_orders = get_customer_orders()"
   ]
  },
  {
   "cell_type": "code",
   "execution_count": null,
   "id": "42b91d75",
   "metadata": {},
   "outputs": [],
   "source": [
    "print(customer_orders)"
   ]
  },
  {
   "cell_type": "code",
   "execution_count": null,
   "id": "e9cfdbf7",
   "metadata": {},
   "outputs": [],
   "source": [
    "#Define a function named update_inventory that takes customer_orders and inventory as parameters. \n",
    "#Inside the function, implement the code for updating the inventory dictionary based on the customer orders.\n",
    "\n",
    "\"\"\"def update_inventory(customer_orders, inventory):\n",
    "    for product in customer_orders:\n",
    "        if product in inventory and inventory[product] > 0:\n",
    "            inventory[product] -= 1\"\"\"\n",
    "\n",
    "def update_inventory(customer_orders, inventory):\n",
    "    \n",
    "    updated_inventory = {product:inventory[product] - 1 for product in inventory if product in customer_orders}"
   ]
  },
  {
   "cell_type": "code",
   "execution_count": null,
   "id": "8534740a",
   "metadata": {},
   "outputs": [],
   "source": [
    "update_inventory(customer_orders, inventory)"
   ]
  },
  {
   "cell_type": "code",
   "execution_count": null,
   "id": "9a9d77cb",
   "metadata": {},
   "outputs": [],
   "source": [
    "print(inventory)"
   ]
  },
  {
   "cell_type": "code",
   "execution_count": null,
   "id": "9510aa37",
   "metadata": {},
   "outputs": [],
   "source": [
    "#Define a function named calculate_order_statistics that takes customer_orders and products as parameters. \n",
    "#Inside the function, implement the code for calculating the order statistics \n",
    "#(total products ordered, and percentage of unique products ordered). The function should return these values.\n",
    "\n",
    "def calculate_order_statistics(customer_orders, products):\n",
    "    total_products_ordered = len(customer_orders)\n",
    "    percentage_ordered = (total_products_ordered / len(products)) * 100\n",
    "    order_status = (total_products_ordered, percentage_ordered)\n",
    "    \n",
    "    return order_status"
   ]
  },
  {
   "cell_type": "code",
   "execution_count": null,
   "id": "b98931f7",
   "metadata": {},
   "outputs": [],
   "source": [
    "order_status = calculate_order_statistics(customer_orders, products)\n",
    "\n",
    "print(\"Order statistics: \")\n",
    "print(\"Total products ordered: \", order_status[0])\n",
    "print(\"Percentage of products ordered: {}%\".format(order_status[1]))"
   ]
  },
  {
   "cell_type": "code",
   "execution_count": null,
   "id": "2e6e69e7",
   "metadata": {},
   "outputs": [],
   "source": [
    "#Define a function named print_order_statistics that takes order_statistics as a parameter. \n",
    "#Inside the function, implement the code for printing the order statistics.\n",
    "\n",
    "def print_order_statistics(order_statistics):\n",
    "    print(\"Order statistics: \")\n",
    "    print(\"Total products ordered: \", order_status[0])\n",
    "    print(\"Percentage of products ordered: {}%\".format(order_status[1]))\n",
    "    "
   ]
  },
  {
   "cell_type": "code",
   "execution_count": null,
   "id": "20499024",
   "metadata": {},
   "outputs": [],
   "source": [
    "#Define a function named print_updated_inventory that takes inventory as a parameter. \n",
    "#Inside the function, implement the code for printing the updated inventory.\n",
    "\n",
    "def print_updated_inventory(inventory):\n",
    "    print(inventory)\n",
    "\n",
    "print_updated_inventory(inventory)"
   ]
  },
  {
   "cell_type": "code",
   "execution_count": null,
   "id": "910503be",
   "metadata": {},
   "outputs": [],
   "source": [
    "#Modify the function get_customer_orders so it prompts the user to enter the number \n",
    "#of customer orders and gathers the product names using a loop and user input. Use comprehension.\n",
    "\n",
    "\"\"\"def get_customer_orders():\n",
    "    continue_or_not = \"yes\"\n",
    "    customer_orders = set()\n",
    "    while continue_or_not == \"yes\":\n",
    "        customer_orders.add(input(\"Please enter the product you want to order: \").lower())\n",
    "        continue_or_not = (input(\"Would you like to add another item? Please type 'Yes' or 'No.'\").lower())\n",
    "\n",
    "    return customer_orders\"\"\"\n",
    "\n",
    "def get_customer_orders():\n",
    "    num_orders = set()\n",
    "    customer_orders = (input(\"Please enter the number of products you want to order: \").lower()) \n",
    "    for bcustomer_orders in get_customer_orders while continue_or_not == \"yes\")"
   ]
  }
 ],
 "metadata": {
  "kernelspec": {
   "display_name": "Python 3 (ipykernel)",
   "language": "python",
   "name": "python3"
  },
  "language_info": {
   "codemirror_mode": {
    "name": "ipython",
    "version": 3
   },
   "file_extension": ".py",
   "mimetype": "text/x-python",
   "name": "python",
   "nbconvert_exporter": "python",
   "pygments_lexer": "ipython3",
   "version": "3.11.5"
  }
 },
 "nbformat": 4,
 "nbformat_minor": 5
}
