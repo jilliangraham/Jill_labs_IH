{
 "cells": [
  {
   "cell_type": "markdown",
   "metadata": {
    "tags": []
   },
   "source": [
    "# Lab | Data Structures "
   ]
  },
  {
   "cell_type": "markdown",
   "metadata": {},
   "source": [
    "## Exercise: Managing Customer Orders\n",
    "\n",
    "As part of a business venture, you are starting an online store that sells various products. To ensure smooth operations, you need to develop a program that manages customer orders and inventory.\n",
    "\n",
    "Follow the steps below to complete the exercise:\n",
    "\n",
    "1. Define a list called `products` that contains the following items: \"t-shirt\", \"mug\", \"hat\", \"book\", \"keychain\".\n",
    "\n",
    "2. Create an empty dictionary called `inventory`.\n",
    "\n",
    "3. Ask the user to input the quantity of each product available in the inventory. Use the product names from the `products` list as keys in the `inventory` dictionary and assign the respective quantities as values.\n",
    "\n",
    "4. Create an empty set called `customer_orders`.\n",
    "\n",
    "5. Ask the user to input the name of three products that a customer wants to order (from those in the products list, meaning three products out of \"t-shirt\", \"mug\", \"hat\", \"book\" or \"keychain\". Add each product name to the `customer_orders` set.\n",
    "\n",
    "6. Print the products in the `customer_orders` set.\n",
    "\n",
    "7. Calculate the following order statistics:\n",
    "   - Total Products Ordered: The total number of products in the `customer_orders` set.\n",
    "   - Percentage of Products Ordered: The percentage of products ordered compared to the total available products.\n",
    "   \n",
    "   Store these statistics in a tuple called `order_status`.\n",
    "\n",
    "8. Print the order statistics using the following format:\n",
    "   ```\n",
    "   Order Statistics:\n",
    "   Total Products Ordered: <total_products_ordered>\n",
    "   Percentage of Products Ordered: <percentage_ordered>% \n",
    "   ```\n",
    "\n",
    "9. Update the inventory by subtracting 1 from the quantity of each product. Modify the `inventory` dictionary accordingly.\n",
    "\n",
    "10. Print the updated inventory, displaying the quantity of each product on separate lines.\n",
    "\n",
    "Solve the exercise by implementing the steps using the Python concepts of lists, dictionaries, sets, and basic input/output operations. "
   ]
  },
  {
   "cell_type": "code",
   "execution_count": 4,
   "metadata": {},
   "outputs": [
    {
     "name": "stdout",
     "output_type": "stream",
     "text": [
      "Please enter the quantity of t-shirts available in the inventory: 2\n",
      "Please enter the quantity of mugs available in the inventory: 3\n",
      "Please enter the quantity of hats available in the inventory: 4\n",
      "Please enter the quantity of books available in the inventory: 5\n",
      "Please enter the quantity of mugs available in the inventory: 6\n",
      "{'t-shirt': 2, 'mug': 3, 'hat': 4, 'book': 5, 'keychain': 6}\n",
      "Please enter the first product you want to order: mug\n",
      "Please enter the second product you want to order: keychain\n",
      "Please enter the third product you want to order: hat\n",
      "Customer orders are:  {'hat', 'mug', 'keychain'}\n",
      "Order statistics: \n",
      "Total products ordered:  3\n",
      "Percentage of products ordered: 60.0%\n",
      "Updated inventory: \n",
      "t-shirt: 2\n",
      "mug: 2\n",
      "hat: 3\n",
      "book: 5\n",
      "keychain: 5\n"
     ]
    }
   ],
   "source": [
    "products = [\"t-shirt\", \"mug\", \"hat\", \"book\", \"keychain\"]\n",
    "inventory = {}\n",
    "\n",
    "inventory[products[0]] = int(input(\"Please enter the quantity of t-shirts available in the inventory: \"))\n",
    "inventory[products[1]] = int(input(\"Please enter the quantity of mugs available in the inventory: \"))\n",
    "inventory[products[2]] = int(input(\"Please enter the quantity of hats available in the inventory: \"))\n",
    "inventory[products[3]] = int(input(\"Please enter the quantity of books available in the inventory: \"))\n",
    "inventory[products[4]] = int(input(\"Please enter the quantity of mugs available in the inventory: \"))\n",
    "\n",
    "print(inventory)\n",
    "\n",
    "customer_orders = set()\n",
    "\n",
    "customer_orders.add(input(\"Please enter the first product you want to order: \"))\n",
    "customer_orders.add(input(\"Please enter the second product you want to order: \"))\n",
    "customer_orders.add(input(\"Please enter the third product you want to order: \"))\n",
    "\n",
    "print(\"Customer orders are: \", customer_orders)\n",
    "\n",
    "total_products_ordered = len(customer_orders)\n",
    "percentage_ordered = (total_products_ordered / len(products)) * 100\n",
    "order_status = (total_products_ordered, percentage_ordered)\n",
    "\n",
    "print(\"Order statistics: \")\n",
    "print(\"Total products ordered: \", total_products_ordered)\n",
    "print(\"Percentage of products ordered: {}%\".format(percentage_ordered))\n",
    "\n",
    "for product in customer_orders:\n",
    "    if product in inventory and inventory[product] > 0:\n",
    "        inventory[product] -= 1\n",
    "\n",
    "print(\"Updated inventory: \")\n",
    "for product, quantity in inventory.items():\n",
    "    print(f\"{product}: {quantity}\")"
   ]
  }
 ],
 "metadata": {
  "kernelspec": {
   "display_name": "Python 3 (ipykernel)",
   "language": "python",
   "name": "python3"
  },
  "language_info": {
   "codemirror_mode": {
    "name": "ipython",
    "version": 3
   },
   "file_extension": ".py",
   "mimetype": "text/x-python",
   "name": "python",
   "nbconvert_exporter": "python",
   "pygments_lexer": "ipython3",
   "version": "3.11.5"
  }
 },
 "nbformat": 4,
 "nbformat_minor": 4
}
